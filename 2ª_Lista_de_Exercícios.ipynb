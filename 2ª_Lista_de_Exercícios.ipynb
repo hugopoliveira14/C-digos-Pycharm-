{
  "nbformat": 4,
  "nbformat_minor": 0,
  "metadata": {
    "colab": {
      "provenance": [],
      "authorship_tag": "ABX9TyO6gQZAYnwCtewAHu7c2gZH",
      "include_colab_link": true
    },
    "kernelspec": {
      "name": "python3",
      "display_name": "Python 3"
    },
    "language_info": {
      "name": "python"
    }
  },
  "cells": [
    {
      "cell_type": "markdown",
      "metadata": {
        "id": "view-in-github",
        "colab_type": "text"
      },
      "source": [
        "<a href=\"https://colab.research.google.com/github/hugopoliveira14/C-digos-Pycharm-/blob/main/2%C2%AA_Lista_de_Exerc%C3%ADcios.ipynb\" target=\"_parent\"><img src=\"https://colab.research.google.com/assets/colab-badge.svg\" alt=\"Open In Colab\"/></a>"
      ]
    },
    {
      "cell_type": "markdown",
      "source": [
        "1) Imprimir seu nome com uma letra por linha"
      ],
      "metadata": {
        "id": "3mRjKrrMJ2-d"
      }
    },
    {
      "cell_type": "code",
      "execution_count": null,
      "metadata": {
        "colab": {
          "base_uri": "https://localhost:8080/"
        },
        "id": "8Zjx-Si9Gh5c",
        "outputId": "54681090-861c-4c8e-9b15-12142e5fdb41"
      },
      "outputs": [
        {
          "output_type": "stream",
          "name": "stdout",
          "text": [
            "Escreva seu nome:Hugo\n",
            "H\n",
            "u\n",
            "g\n",
            "o\n"
          ]
        }
      ],
      "source": [
        "nome=input('Escreva seu nome:')\n",
        "for i in nome:\n",
        "  print(i)\n",
        "  "
      ]
    },
    {
      "cell_type": "markdown",
      "source": [
        "2) Escreva uma função que receba uma string e conte o número de vogais dentro dela, por exemplo: entrada: ‘Ciência de Dados’,\n"
      ],
      "metadata": {
        "id": "rXCVDw05ODaq"
      }
    },
    {
      "cell_type": "code",
      "source": [
        "vogais = 'aeiou'\n",
        "nome = 'Ciencia de Dados'\n",
        "qtd_vogais = len([c for c in nome.lower() if c in vogais])\n",
        "print('A quantidade de vogais é:', qtd_vogais)"
      ],
      "metadata": {
        "colab": {
          "base_uri": "https://localhost:8080/"
        },
        "id": "q6Lfhn5qOLmm",
        "outputId": "715bf484-6ad6-4e42-e7a6-520bfb6d4d6f"
      },
      "execution_count": null,
      "outputs": [
        {
          "output_type": "stream",
          "name": "stdout",
          "text": [
            "A quantidade de vogais é: 7\n"
          ]
        }
      ]
    },
    {
      "cell_type": "markdown",
      "source": [
        "3) Desenha moldura. Construa uma função que desenhe um retângulo usando os caracteres ‘+’ , ‘−’ e ‘| ‘. Esta função deve receber dois parâmetros, linhas e colunas, sendo que o valor por omissão é o valor mínimo igual a 1 e o valor máximo é 20. Se valores fora da faixa forem informados, eles devem ser modificados para valores dentro da faixa de forma elegante.\n"
      ],
      "metadata": {
        "id": "goRx6-D4Rg1U"
      }
    },
    {
      "cell_type": "code",
      "source": [
        "def valor_por_omissao(valor):\n",
        "    if valor=='':\n",
        "        return int(1)\n",
        "    else:\n",
        "        return faixa_minima_maxima(int(valor))\n",
        "\n",
        "def faixa_minima_maxima(valor):\n",
        "    if valor<1:\n",
        "        return 1\n",
        "    elif valor>20:\n",
        "        return 20\n",
        "    else:\n",
        "        return valor\n",
        "\n",
        "def cria_linha(linha):\n",
        "    l='+'\n",
        "    for x in range(linha):\n",
        "        l+='-'\n",
        "    l+='+'\n",
        "    print (l)\n",
        "\n",
        "def cria_coluna(linha, coluna):\n",
        "    for y in range(coluna):\n",
        "        c='|'\n",
        "        c+= ' '*linha\n",
        "        c+='|'\n",
        "        print (c)\n",
        "\n",
        "def desenha_moldura(linha, coluna):\n",
        "    cria_linha(linha)\n",
        "    cria_coluna(linha, coluna)\n",
        "    cria_linha(linha)\n",
        "\n",
        "linha=input('Diga quantos +----+, entre 1 e 20: ')\n",
        "coluna=input('Diga quantos |    |, entre 1 e 20: ')\n",
        "desenha_moldura(valor_por_omissao(linha), valor_por_omissao(coluna))"
      ],
      "metadata": {
        "colab": {
          "base_uri": "https://localhost:8080/"
        },
        "id": "FGzFt5l9Rkne",
        "outputId": "7d9c7dde-c0af-4884-8b2c-3916c730abd9"
      },
      "execution_count": null,
      "outputs": [
        {
          "output_type": "stream",
          "name": "stdout",
          "text": [
            "Diga quantos +----+, entre 1 e 20: 1\n",
            "Diga quantos |    |, entre 1 e 20: 1\n",
            "+-+\n",
            "| |\n",
            "+-+\n"
          ]
        }
      ]
    },
    {
      "cell_type": "markdown",
      "source": [
        "4) Crie um função que retorna o resto de uma divisão"
      ],
      "metadata": {
        "id": "EE4Ex6w_S2fu"
      }
    },
    {
      "cell_type": "code",
      "source": [
        "n1=int(input('Digite o dividendo:'))\n",
        "n2=int(input('Digite o divisor:'))\n",
        "resto_divisao= n1 % n2\n",
        "print('O resto da divisão',n1,'/', n2, 'é:', resto_divisao)\n"
      ],
      "metadata": {
        "colab": {
          "base_uri": "https://localhost:8080/"
        },
        "id": "YQ4dZ-SLTehW",
        "outputId": "8ad181a3-7d5c-497e-a260-fbe35706c4e8"
      },
      "execution_count": null,
      "outputs": [
        {
          "output_type": "stream",
          "name": "stdout",
          "text": [
            "Digite o dividendo:7\n",
            "Digite o divisor:2\n",
            "O resto da divisão 7 / 2 é: 1\n"
          ]
        }
      ]
    },
    {
      "cell_type": "markdown",
      "source": [
        "5) Escreva um programa que pergunte a quantidade de km percorridos por um carro alugado pelo usuário, assim como a quantidade de dias pelos quais o carro foi alugado. Calcule o preço a pagar, sabendo que o carro custa R$ 60,00  por  dia e R$ 0,15 por km rodado."
      ],
      "metadata": {
        "id": "l44DigIqYaNh"
      }
    },
    {
      "cell_type": "code",
      "source": [
        "km_percorridos=float(input('Digite o km percorrido:'))\n",
        "qtd_dias=float(input(\"Digite a quantidade de dias:\"))\n",
        "preco_dias= 60\n",
        "preco_km= 0.15\n",
        "preco_pagar= km_percorridos * preco_km + qtd_dias * preco_dias\n",
        "print('Total a pagar: R$ %7.2f' % preco_pagar)"
      ],
      "metadata": {
        "colab": {
          "base_uri": "https://localhost:8080/"
        },
        "id": "KemsaPe6Yk93",
        "outputId": "8167ee45-e958-45ce-ac95-d3a869dd25b6"
      },
      "execution_count": null,
      "outputs": [
        {
          "output_type": "stream",
          "name": "stdout",
          "text": [
            "Digite o km percorrido:10\n",
            "Digite a quantidade de dias:2\n",
            "Total a pagar: R$  121.50\n"
          ]
        }
      ]
    },
    {
      "cell_type": "markdown",
      "source": [
        "6) Escreva um programa para calcular a redução do tempo de vida de um fumante. Pergunte a quantidade de cigarros fumados por dia e quantos anos ele já fumou. Considere que um fumante perde 10 minutos de vida a cada cigarro, e calcule quantos dias de vida um fumante perderá. Exiba o total em dias."
      ],
      "metadata": {
        "id": "StQLbp4obxMw"
      }
    },
    {
      "cell_type": "code",
      "source": [
        "qtd_cigarros=float(input('Digite a quantidade de cigarros por dia:'))\n",
        "qtd_anos=float(input('Digite a quantidade de anos:'))\n",
        "min_vida = qtd_anos * 365 * qtd_cigarros * 10\n",
        "red_dias= min_vida / (24*60)\n",
        "print(\"Redução do tempo de vida %8.2f dias.\" % red_dias)"
      ],
      "metadata": {
        "colab": {
          "base_uri": "https://localhost:8080/"
        },
        "id": "80hnnAG2b2ub",
        "outputId": "6f740e7a-adf3-4def-bea6-f0a4c1d61441"
      },
      "execution_count": null,
      "outputs": [
        {
          "output_type": "stream",
          "name": "stdout",
          "text": [
            "Digite a quantidade de cigarros por dia:3\n",
            "Digite a quantidade de anos:2\n",
            "Redução do tempo de vida    15.21 dias.\n"
          ]
        }
      ]
    },
    {
      "cell_type": "markdown",
      "source": [
        "7) Validar e corrigir número de telefone. \n",
        "Faça um programa que leia um número de telefone, e corrija o número no caso deste conter somente 7 dígitos, acrescentando o '3' na frente. O usuário pode informar o número com ou sem o traço\n",
        "separador"
      ],
      "metadata": {
        "id": "cbTHyG4Wo0V0"
      }
    },
    {
      "cell_type": "code",
      "source": [
        "print('Valida e corrige número de telefone')\n",
        "numero = int(input('Telefone:'))\n",
        "novoNumero = ''\n",
        "if len(str(numero)) < 8:\n",
        "    diferenca = 8 - len(str(numero))\n",
        "    novoNumero = '3' * diferenca\n",
        "\n",
        "numeroSemFormatacao = novoNumero + str(numero)\n",
        "numeroFormatado = novoNumero + str(numero)\n",
        "numeroFormatado = numeroFormatado[0:4] + '-' + numeroFormatado[4:]\n",
        "\n",
        "print('Telefone possui %d dígitos. Vou acrescentar o digito três na frente.' % len(str(numero)))\n",
        "print('Telefone corrigido sem formatação: %s' % numeroSemFormatacao)\n",
        "print('Telefone corrigido com formatação: %s' % numeroFormatado)"
      ],
      "metadata": {
        "colab": {
          "base_uri": "https://localhost:8080/"
        },
        "id": "5J57bx8jo_Wt",
        "outputId": "7f77effb-d4e2-4544-80b5-a67b2e69d4d9"
      },
      "execution_count": null,
      "outputs": [
        {
          "output_type": "stream",
          "name": "stdout",
          "text": [
            "Valida e corrige número de telefone\n",
            "Telefone:1234567\n",
            "Telefone possui 7 dígitos. Vou acrescentar o digito três na frente.\n",
            "Telefone corrigido sem formatação: 31234567\n",
            "Telefone corrigido com formatação: 3123-4567\n"
          ]
        }
      ]
    },
    {
      "cell_type": "markdown",
      "source": [
        "8)Faça uma função Calculadora que recebe uma expressão matemática e retorna o resultado\n",
        "Ex:\n",
        "Entrada: Digite uma expressão matemática: 4+5\n",
        "Saída: O resultado é 9"
      ],
      "metadata": {
        "id": "-rzds8rEv6bc"
      }
    },
    {
      "cell_type": "code",
      "source": [
        "expressao_matematica=input('Digite uma expressao matemática:')\n",
        "Resultado=eval(expressao_matematica)\n",
        "print('O resultado é:', Resultado)"
      ],
      "metadata": {
        "colab": {
          "base_uri": "https://localhost:8080/"
        },
        "id": "tyHRS9cLwCgY",
        "outputId": "7c4e1217-83ce-4cfa-bfd4-1bab28fb3a15"
      },
      "execution_count": null,
      "outputs": [
        {
          "output_type": "stream",
          "name": "stdout",
          "text": [
            "Digite uma expressao matemática:4+5\n",
            "O resultado é: 9\n"
          ]
        }
      ]
    }
  ]
}