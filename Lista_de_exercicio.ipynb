{
  "nbformat": 4,
  "nbformat_minor": 0,
  "metadata": {
    "colab": {
      "provenance": [],
      "toc_visible": true,
      "authorship_tag": "ABX9TyPHOqnrOLKbe+T2CTTlIQta",
      "include_colab_link": true
    },
    "kernelspec": {
      "name": "python3",
      "display_name": "Python 3"
    },
    "language_info": {
      "name": "python"
    }
  },
  "cells": [
    {
      "cell_type": "markdown",
      "metadata": {
        "id": "view-in-github",
        "colab_type": "text"
      },
      "source": [
        "<a href=\"https://colab.research.google.com/github/hugopoliveira14/C-digos-Pycharm-/blob/main/Lista_de_exercicio.ipynb\" target=\"_parent\"><img src=\"https://colab.research.google.com/assets/colab-badge.svg\" alt=\"Open In Colab\"/></a>"
      ]
    },
    {
      "cell_type": "markdown",
      "source": [
        "**1ª LISTA DE EXERCÍCIOS - PYTHON**"
      ],
      "metadata": {
        "id": "o0Fk0a3Hws-C"
      }
    },
    {
      "cell_type": "markdown",
      "source": [
        "1- Faça um programa que pergunte o nome, idade, peso e altura de uma pessoa e decide ser ela está apta a entrar no exercito.\n",
        "Obs: Para entrar no exercito é preciso ter mais de 18 anos, pesar igual ou mais que 60 kg e medir mais ou igual que 1,70\n",
        "\n",
        "Saida:\n",
        "'Você está apto a servir o exercito'\n",
        "OU\n",
        "'Você não está apto a servir o exercito'"
      ],
      "metadata": {
        "id": "rPTTESOfwwGL"
      }
    },
    {
      "cell_type": "code",
      "source": [
        "nome=input('Qual o nome?')\n",
        "idade=float(input('Qual a idade?'))\n",
        "peso=float(input('Qual o peso?'))\n",
        "altura=float(input('Qual a altura?'))\n",
        "\n",
        "exercito =True\n",
        "\n",
        "if ((exercito == True) and (idade > 18) and (peso >= 60) and (altura >= 1,70)):\n",
        "   print('Você está apto a servir o exercito')\n",
        "else :\n",
        "   (idade <= 18)\n",
        "   (peso < 60)\n",
        "   (altura < 1,70)\n",
        "   print('Você não está apto a servir o exercito')\n",
        "  \n"
      ],
      "metadata": {
        "colab": {
          "base_uri": "https://localhost:8080/"
        },
        "id": "7nG3RaTIw-ur",
        "outputId": "a5cc942f-b98c-497d-fdca-19cc2ed0dca5"
      },
      "execution_count": 75,
      "outputs": [
        {
          "output_type": "stream",
          "name": "stdout",
          "text": [
            "Qual o nome?hugo\n",
            "Qual a idade?20\n",
            "Qual o peso?85\n",
            "Qual a altura?2\n",
            "Você está apto a servir o exercito\n"
          ]
        }
      ]
    },
    {
      "cell_type": "markdown",
      "source": [
        "2- Faça um programa que imprima a frase de tras para frente e veja o que está escrito. Palindromo - Anotaram a data da maratona"
      ],
      "metadata": {
        "id": "Pd4BSbQvEHCd"
      }
    },
    {
      "cell_type": "code",
      "source": [
        "#Main\n",
        "nome = input('Insira a frase:')\n",
        "\n",
        "for i in range(len(nome)):\n",
        "  c = nome[len(nome)- 1- i]\n",
        "  print(c)"
      ],
      "metadata": {
        "colab": {
          "base_uri": "https://localhost:8080/"
        },
        "id": "OL_czOctEQp-",
        "outputId": "68f179d6-d21e-40b7-8028-b198dcfdda6f"
      },
      "execution_count": 88,
      "outputs": [
        {
          "output_type": "stream",
          "name": "stdout",
          "text": [
            "Insira a frase:Anotaram a data da maratona\n",
            "a\n",
            "n\n",
            "o\n",
            "t\n",
            "a\n",
            "r\n",
            "a\n",
            "m\n",
            " \n",
            "a\n",
            "d\n",
            " \n",
            "a\n",
            "t\n",
            "a\n",
            "d\n",
            " \n",
            "a\n",
            " \n",
            "m\n",
            "a\n",
            "r\n",
            "a\n",
            "t\n",
            "o\n",
            "n\n",
            "A\n"
          ]
        }
      ]
    },
    {
      "cell_type": "markdown",
      "source": [
        "3-Faça um programa que calcule quantos segundos tem:\n",
        "\n",
        "Entrada:\n",
        "dias = int(input(\"Dias: \"))\n",
        "horas = int(input(\"Horas: \"))\n",
        "minutos = int(input(\"Minutos: \"))"
      ],
      "metadata": {
        "id": "GUqE9Np2Jg1S"
      }
    },
    {
      "cell_type": "code",
      "source": [
        "dias= int(input(\"Dias:\"))\n",
        "horas= int(input(\"Horas:\"))\n",
        "minutos= int(input(\"Minutos:\"))\n",
        "\n",
        "segundos = (dias *24) * (horas *60) * (minutos*60)\n",
        "\n",
        "print(\"Tem\",segundos, \"Segundos\")"
      ],
      "metadata": {
        "colab": {
          "base_uri": "https://localhost:8080/"
        },
        "id": "nKvHqI2IKA4j",
        "outputId": "2e729183-3479-41ae-b8b3-480ec0f6b9d6"
      },
      "execution_count": 97,
      "outputs": [
        {
          "output_type": "stream",
          "name": "stdout",
          "text": [
            "Dias:2\n",
            "Horas:2\n",
            "Minutos:2\n",
            "Tem 691200 Segundos\n"
          ]
        }
      ]
    },
    {
      "cell_type": "markdown",
      "source": [
        "4-Faça um programa que calcule o tempo de uma viagem de carro.\n",
        "Entrada:\n",
        "distância a percorrer e a velocidade média esperada para a viagem.\n"
      ],
      "metadata": {
        "id": "P634zyYtO0Ih"
      }
    },
    {
      "cell_type": "code",
      "source": [
        "distância_percorrer =float(input('Digite a distância:'))\n",
        "velocidade_média_esperada_para_a_viagem =float(input('Digite a velocidade média:'))\n",
        "\n",
        "Horas= distância_percorrer * velocidade_média_esperada_para_a_viagem\n",
        "\n",
        "print(\"Tempo da viagem de carro\", Horas,'Horas')"
      ],
      "metadata": {
        "colab": {
          "base_uri": "https://localhost:8080/"
        },
        "id": "fPfNa_AOO_Jl",
        "outputId": "583ef1d3-8738-4386-d6fb-01eabbffe938"
      },
      "execution_count": 107,
      "outputs": [
        {
          "output_type": "stream",
          "name": "stdout",
          "text": [
            "Digite a distância:2\n",
            "Digite a velocidade média:30\n",
            "Tempo da viagem de carro 60.0 Horas\n"
          ]
        }
      ]
    },
    {
      "cell_type": "markdown",
      "source": [
        "5-Faça um programa que recebe a velocidade do carro e, caso ultrapasse 80 km/h, exiba uma mensagem dizendo que o usuário foi multado.\n",
        "Nesse caso, exiba o valor da multa, cobrando R$ 5 por km acima de 80 km/h."
      ],
      "metadata": {
        "id": "yNwu112tS8yV"
      }
    },
    {
      "cell_type": "code",
      "source": [
        "velocidade=float(input('Digite a velocidade do carro:'))\n",
        "multa = 5\n",
        "\n",
        "if velocidade > 80 :\n",
        "  print(multa *80)\n",
        "  print('Você foi multado')\n"
      ],
      "metadata": {
        "colab": {
          "base_uri": "https://localhost:8080/"
        },
        "id": "Mb-aqr_lTEkb",
        "outputId": "4a2d78e6-9417-4f44-a96e-cb0ee0cb0e0e"
      },
      "execution_count": 126,
      "outputs": [
        {
          "output_type": "stream",
          "name": "stdout",
          "text": [
            "Digite a velocidade do carro:85\n",
            "400\n",
            "Você foi multado\n"
          ]
        }
      ]
    },
    {
      "cell_type": "markdown",
      "source": [
        "6-Faça um programa para aprovar o empréstimo bancário para compra de uma casa. O programa deve perguntar o valor da casa a comprar, o salário e a quantidade de anos a pagar. O valor da prestação mensal não pode ser superior a 30% do salário. Calcule o valor da prestação como sendo o valor da casa a comprar dividido pelo número de meses a pagar.\n"
      ],
      "metadata": {
        "id": "lYMyMGmukzCp"
      }
    },
    {
      "cell_type": "code",
      "source": [
        "valor_da_casa=float(input('Digite o valor da casa:'))\n",
        "salario=float(input('Digite o salario:'))\n",
        "quantidade_anos_pagar=float(input('Digite a quantidade de anos a pagar'))\n",
        "\n",
        "meses_pagar = quantidade_anos_pagar * 12\n",
        "prestacao= valor_da_casa / meses_pagar\n",
        "\n",
        "print('Meses Pagar:',meses_pagar)\n",
        "print('Valor prestação:', prestacao)\n",
        "\n",
        "if prestacao <= 0.3 and salario:\n",
        "  print(prestacao)\n",
        "\n",
        "\n"
      ],
      "metadata": {
        "colab": {
          "base_uri": "https://localhost:8080/"
        },
        "id": "pApo_x2Wk-o-",
        "outputId": "62b73c13-1687-41c0-f670-fc324fe8416e"
      },
      "execution_count": 139,
      "outputs": [
        {
          "output_type": "stream",
          "name": "stdout",
          "text": [
            "Digite o valor da casa:14400\n",
            "Digite o salario:1200\n",
            "Digite a quantidade de anos a pagar2\n",
            "Meses Pagar: 24.0\n",
            "Valor prestação: 600.0\n"
          ]
        }
      ]
    },
    {
      "cell_type": "markdown",
      "source": [
        "7-Faça um programa para imprimir a tabuada (operação multiplicação) de um determinado número:"
      ],
      "metadata": {
        "id": "6avsK_lyrWRB"
      }
    },
    {
      "cell_type": "code",
      "source": [
        "from ast import Mult\n",
        "Mult = [numero * 6 for numero in range(10)]\n",
        "Mult"
      ],
      "metadata": {
        "colab": {
          "base_uri": "https://localhost:8080/"
        },
        "id": "MSGgM5ZzryoV",
        "outputId": "72631d0a-f2f6-4982-bcfe-d133601238bf"
      },
      "execution_count": 152,
      "outputs": [
        {
          "output_type": "execute_result",
          "data": {
            "text/plain": [
              "[0, 6, 12, 18, 24, 30, 36, 42, 48, 54]"
            ]
          },
          "metadata": {},
          "execution_count": 152
        }
      ]
    },
    {
      "cell_type": "markdown",
      "source": [
        "8-Faça um programa que calcule o resto da divisão inteira entre dois números. Utilize apenas as operações de soma e subtração para calcular o resultado.\n"
      ],
      "metadata": {
        "id": "GtM2KPI1vrGr"
      }
    },
    {
      "cell_type": "code",
      "source": [
        "n1=int(input('Digite um numero:'))\n",
        "n2=int(input('Digite outro:'))\n",
        "quociente= 0\n",
        "x= n1\n",
        "while x >= n2:\n",
        "  x = x - n2\n",
        "  quociente = quociente + 1\n",
        "resto_divisao = x\n",
        "print(f\"O resto de {n1} / {n2} é {resto_divisao}\")"
      ],
      "metadata": {
        "colab": {
          "base_uri": "https://localhost:8080/"
        },
        "id": "eDDbpUy6v1B8",
        "outputId": "5e16e14b-5e00-495a-972c-0bf413a75f4f"
      },
      "execution_count": 160,
      "outputs": [
        {
          "output_type": "stream",
          "name": "stdout",
          "text": [
            "Digite um numero:20\n",
            "Digite outro:2\n",
            "O resto de 20 / 2 é 0\n"
          ]
        }
      ]
    },
    {
      "cell_type": "markdown",
      "source": [
        "9-Escreva um programa que leia 3 números inteiros referentes ao comprimento dos lados de um triângulo e classifique-o como:\n",
        "triângulo equilátero, isósceles ou escaleno."
      ],
      "metadata": {
        "id": "CzevQLMF4rKs"
      }
    },
    {
      "cell_type": "code",
      "source": [
        "n1=int(input('Digite um numero:'))\n",
        "n2=int(input('Digite outro numero:'))\n",
        "n3=int(input('Digite o ultimo numero:'))\n",
        "\n",
        "triangulo = True\n",
        "\n",
        "if ((triangulo == True) and (n1 == n2) and (n1 == n3) and (n2 == n3)):\n",
        "  print('Triangulo equilatero')\n",
        "elif (n1 == n2) and (n2 != n3) and (n1 != n3):\n",
        "   print('Triangulo isosceles')\n",
        "else:\n",
        "  (n1 != n2, n2 != n3, n1 != n3)\n",
        "  print('Triangulo escaleno')\n",
        "   "
      ],
      "metadata": {
        "colab": {
          "base_uri": "https://localhost:8080/"
        },
        "id": "ZbXLkFDv46Os",
        "outputId": "c3d3ff79-3476-43f0-ce96-5af2a7a8a0e3"
      },
      "execution_count": 185,
      "outputs": [
        {
          "output_type": "stream",
          "name": "stdout",
          "text": [
            "Digite um numero:1\n",
            "Digite outro numero:2\n",
            "Digite o ultimo numero:3\n",
            "Triangulo escaleno\n"
          ]
        }
      ]
    },
    {
      "cell_type": "markdown",
      "source": [
        "10-Escreva uma função que receba um número inteiro como entrada (px.: 32243) e retorne o número invertido (px.: 34223).\n"
      ],
      "metadata": {
        "id": "OFHH4H4jA70l"
      }
    },
    {
      "cell_type": "code",
      "source": [
        "numero = int(input('Insira o numero:'))\n",
        "\n",
        "numero = str(numero)\n",
        "\n",
        "print ('O numero invertido é:', numero[::-1])"
      ],
      "metadata": {
        "colab": {
          "base_uri": "https://localhost:8080/"
        },
        "id": "pLBAJEtDBPJW",
        "outputId": "6e40db12-08b1-4872-926f-1bf2bf69eaeb"
      },
      "execution_count": 199,
      "outputs": [
        {
          "output_type": "stream",
          "name": "stdout",
          "text": [
            "Insira o numero:234\n",
            "O numero invertido é: 432\n"
          ]
        }
      ]
    },
    {
      "cell_type": "markdown",
      "source": [
        "11-Escreva uma função que receba uma string e conte o número de vogais dentro dela, por exemplo:\n",
        "Entrada: 'Ciência de Dados'\n",
        "Saida: 'A palavra tem 7 vogais'"
      ],
      "metadata": {
        "id": "QQ9O7_NnHqxf"
      }
    },
    {
      "cell_type": "code",
      "source": [
        "def conta_vogais(string):\n",
        "  string = string.lower()\n",
        "  result = {}\n",
        "  vogais = 'aeiou'\n",
        "  for i in vogais:\n",
        "    if i in string:\n",
        "      result[i] = string.count(i)\n",
        "  return result\n",
        "print('A palavra tem a quantidade de vogais:', conta_vogais('Ciencia de Dados'))"
      ],
      "metadata": {
        "colab": {
          "base_uri": "https://localhost:8080/"
        },
        "id": "Wh0kT6I-IEk2",
        "outputId": "7f771c30-95d1-4f93-dbce-75f2c8d8708d"
      },
      "execution_count": 3,
      "outputs": [
        {
          "output_type": "stream",
          "name": "stdout",
          "text": [
            "A palavra tem a quantidade de vogais: {'a': 2, 'e': 2, 'i': 2, 'o': 1}\n"
          ]
        }
      ]
    },
    {
      "cell_type": "markdown",
      "source": [
        "12-Escreva um programa que encontre o item mais frequente de uma lista. Exemplo: [2, 7, 7, 7, '#', '#', '#', '@', 3, '#', 6]\n",
        "Saída: O caractere mais frequente é '#' e aparece 4 vezes"
      ],
      "metadata": {
        "id": "TipQdoVQPRFP"
      }
    },
    {
      "cell_type": "code",
      "source": [
        "List = [1,2,3,4,5,3,6,4,2,3,1,9,8,10]\n",
        "print (\"Lista Original : \" + str(List))\n",
        "max = 0\n",
        "res = List[0]\n",
        "for i in List:\n",
        "  freq = List.count(i)\n",
        "  if freq > max:\n",
        "    max = freq\n",
        "    res = i\n",
        "print (\"O numero mais frequente é:\" + str(res))"
      ],
      "metadata": {
        "colab": {
          "base_uri": "https://localhost:8080/"
        },
        "id": "3k_RQ9ogQPpd",
        "outputId": "2b5589ef-d4b8-4e14-faee-971cb45631e0"
      },
      "execution_count": 16,
      "outputs": [
        {
          "output_type": "stream",
          "name": "stdout",
          "text": [
            "Lista Original : [1, 2, 3, 4, 5, 3, 6, 4, 2, 3, 1, 9, 8, 10]\n",
            "O numero mais frequente é:3\n"
          ]
        }
      ]
    },
    {
      "cell_type": "markdown",
      "source": [
        "13-Escreva um programa para verificar se uma palavra é ou não um palíndromo.\n",
        "Ex:\n",
        "Digite uma palavra: ovo\n",
        "ovo é um palindromo"
      ],
      "metadata": {
        "id": "BKFzZ4PXVq3L"
      }
    },
    {
      "cell_type": "code",
      "source": [
        "def verif_palindromo(pa):\n",
        "  pa = pa.upper()\n",
        "  n = len(pa)\n",
        "  num = int(n/2)\n",
        "  verif = True\n",
        "  for i in range(0,num):\n",
        "    if (pa[i] != pa[n-(i+1)]):\n",
        "      verif = False\n",
        "      break\n",
        "  return verif\n",
        "p = 'Arara'\n",
        "if ( verif_palindromo(p)):\n",
        "  print(\"A palavra: {0:s} é palídromo\".format(p))"
      ],
      "metadata": {
        "colab": {
          "base_uri": "https://localhost:8080/"
        },
        "id": "k05AW0ITV6ux",
        "outputId": "f12cd084-271c-46e4-c00b-53295c097eba"
      },
      "execution_count": 24,
      "outputs": [
        {
          "output_type": "stream",
          "name": "stdout",
          "text": [
            "A palavra: Arara é palídromo\n"
          ]
        }
      ]
    },
    {
      "cell_type": "markdown",
      "source": [
        "# Nova seção"
      ],
      "metadata": {
        "id": "WaX_NUA5dZ0J"
      }
    }
  ]
}