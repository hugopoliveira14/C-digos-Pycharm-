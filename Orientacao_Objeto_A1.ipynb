{
  "nbformat": 4,
  "nbformat_minor": 0,
  "metadata": {
    "colab": {
      "provenance": [],
      "authorship_tag": "ABX9TyMnnuClZ5x4Sf4dNmdA8Op9",
      "include_colab_link": true
    },
    "kernelspec": {
      "name": "python3",
      "display_name": "Python 3"
    },
    "language_info": {
      "name": "python"
    }
  },
  "cells": [
    {
      "cell_type": "markdown",
      "metadata": {
        "id": "view-in-github",
        "colab_type": "text"
      },
      "source": [
        "<a href=\"https://colab.research.google.com/github/hugopoliveira14/C-digos-Pycharm-/blob/main/Orientacao_Objeto_A1.ipynb\" target=\"_parent\"><img src=\"https://colab.research.google.com/assets/colab-badge.svg\" alt=\"Open In Colab\"/></a>"
      ]
    },
    {
      "cell_type": "code",
      "execution_count": null,
      "metadata": {
        "id": "ULyIMwk1glmw"
      },
      "outputs": [],
      "source": [
        "class Televisao:\n",
        "    def __init__(self):\n",
        "      self.ligada=False\n",
        "      self.canal= 2\n",
        "      self.volume= 20\n",
        "      self.entrada_padrao= 'HDMI1'\n",
        "\n",
        "    def aumentarCanal(self):\n",
        "     self.canal += 1\n",
        "    def diminuirCanal(self):\n",
        "      self.canal += -1\n",
        "    def aumentarVolume(self):\n",
        "     self.volume += 1\n",
        "    def diminuirVolume(self):\n",
        "      self.volume += -1\n"
      ]
    },
    {
      "cell_type": "code",
      "source": [
        "tv = Televisao()"
      ],
      "metadata": {
        "id": "Z6hKo1v8lUK0"
      },
      "execution_count": null,
      "outputs": []
    },
    {
      "cell_type": "code",
      "source": [
        "tv.aumentarCanal()"
      ],
      "metadata": {
        "id": "rWGkU7jDnqTL"
      },
      "execution_count": null,
      "outputs": []
    },
    {
      "cell_type": "code",
      "source": [
        "print(tv.canal)"
      ],
      "metadata": {
        "colab": {
          "base_uri": "https://localhost:8080/"
        },
        "id": "fJbGyFqmsg6n",
        "outputId": "f8f0a053-6faa-4d1a-b8b3-5560d356834c"
      },
      "execution_count": null,
      "outputs": [
        {
          "output_type": "stream",
          "name": "stdout",
          "text": [
            "3\n"
          ]
        }
      ]
    },
    {
      "cell_type": "code",
      "source": [
        "tv.diminuirCanal()"
      ],
      "metadata": {
        "id": "AFwuwFmmspM3"
      },
      "execution_count": null,
      "outputs": []
    },
    {
      "cell_type": "code",
      "source": [
        "print(tv.canal)"
      ],
      "metadata": {
        "colab": {
          "base_uri": "https://localhost:8080/"
        },
        "id": "vRflK21pswL2",
        "outputId": "bb7ea153-9c36-4fc7-e5b5-b1dd80b75c5f"
      },
      "execution_count": null,
      "outputs": [
        {
          "output_type": "stream",
          "name": "stdout",
          "text": [
            "2\n"
          ]
        }
      ]
    },
    {
      "cell_type": "code",
      "source": [
        "tv.aumentarVolume()"
      ],
      "metadata": {
        "id": "SJDBIjxzwL0T"
      },
      "execution_count": null,
      "outputs": []
    },
    {
      "cell_type": "code",
      "source": [
        "print(tv.volume)"
      ],
      "metadata": {
        "colab": {
          "base_uri": "https://localhost:8080/"
        },
        "id": "-DLaWA8rwQ5a",
        "outputId": "7763c6f4-b4e8-4cb6-e287-7d770bfd6067"
      },
      "execution_count": null,
      "outputs": [
        {
          "output_type": "stream",
          "name": "stdout",
          "text": [
            "21\n"
          ]
        }
      ]
    },
    {
      "cell_type": "code",
      "source": [
        "tv.diminuirVolume()"
      ],
      "metadata": {
        "id": "jwc4Hbs5wTLL"
      },
      "execution_count": null,
      "outputs": []
    },
    {
      "cell_type": "code",
      "source": [
        "print(tv.volume)"
      ],
      "metadata": {
        "colab": {
          "base_uri": "https://localhost:8080/"
        },
        "id": "r2nUYWdewXAq",
        "outputId": "8ebeeb2a-1bb4-4461-a56d-9be94be9eda3"
      },
      "execution_count": null,
      "outputs": [
        {
          "output_type": "stream",
          "name": "stdout",
          "text": [
            "19\n"
          ]
        }
      ]
    }
  ]
}