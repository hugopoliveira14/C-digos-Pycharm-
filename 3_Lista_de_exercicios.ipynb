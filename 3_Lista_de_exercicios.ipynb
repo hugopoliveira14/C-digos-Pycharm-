{
  "nbformat": 4,
  "nbformat_minor": 0,
  "metadata": {
    "colab": {
      "provenance": [],
      "authorship_tag": "ABX9TyN9Dwoue3mrPGEijouE+NHz",
      "include_colab_link": true
    },
    "kernelspec": {
      "name": "python3",
      "display_name": "Python 3"
    },
    "language_info": {
      "name": "python"
    }
  },
  "cells": [
    {
      "cell_type": "markdown",
      "metadata": {
        "id": "view-in-github",
        "colab_type": "text"
      },
      "source": [
        "<a href=\"https://colab.research.google.com/github/hugopoliveira14/C-digos-Pycharm-/blob/main/3_Lista_de_exercicios.ipynb\" target=\"_parent\"><img src=\"https://colab.research.google.com/assets/colab-badge.svg\" alt=\"Open In Colab\"/></a>"
      ]
    },
    {
      "cell_type": "markdown",
      "source": [
        "1 - Desenha moldura. Construa uma função que desenhe um retângulo usando os caracteres ‘+’ , ‘−’ e ‘| ‘. Esta função deve receber dois parâmetros, linhas e colunas, sendo que o valor por omissão é o valor mínimo igual a 1 e o valor máximo é 20. Se valores fora da faixa forem informados, eles devem ser modificados para valores dentro da faixa de forma elegante."
      ],
      "metadata": {
        "id": "Sa27ty8YShTM"
      }
    },
    {
      "cell_type": "code",
      "source": [
        "def valor_por_omissao(valor):\n",
        "    if valor=='':\n",
        "        return int(1)\n",
        "    else:\n",
        "        return faixa_minima_maxima(int(valor))\n",
        "\n",
        "def faixa_minima_maxima(valor):\n",
        "    if valor<1:\n",
        "        return 1\n",
        "    elif valor>20:\n",
        "        return 20\n",
        "    else:\n",
        "        return valor\n",
        "\n",
        "def cria_linha(linha):\n",
        "    l='+'\n",
        "    for x in range(linha):\n",
        "        l+='-'\n",
        "    l+='+'\n",
        "    print (l)\n",
        "\n",
        "def cria_coluna(linha, coluna):\n",
        "    for y in range(coluna):\n",
        "        c='|'\n",
        "        c+= ' '*linha\n",
        "        c+='|'\n",
        "        print (c)\n",
        "\n",
        "def desenha_moldura(linha, coluna):\n",
        "    cria_linha(linha)\n",
        "    cria_coluna(linha, coluna)\n",
        "    cria_linha(linha)\n",
        "\n",
        "linha=input('Diga quantos +----+, entre 1 e 20: ')\n",
        "coluna=input('Diga quantos |    |, entre 1 e 20: ')\n",
        "desenha_moldura(valor_por_omissao(linha), valor_por_omissao(coluna))"
      ],
      "metadata": {
        "colab": {
          "base_uri": "https://localhost:8080/"
        },
        "id": "0gkoeGJWSw7z",
        "outputId": "256021ee-9e19-45d0-8fbb-d0883b60ab97"
      },
      "execution_count": null,
      "outputs": [
        {
          "output_type": "stream",
          "name": "stdout",
          "text": [
            "Diga quantos +----+, entre 1 e 20: 3\n",
            "Diga quantos |    |, entre 1 e 20: 1\n",
            "+---+\n",
            "|   |\n",
            "+---+\n"
          ]
        }
      ]
    },
    {
      "cell_type": "markdown",
      "source": [
        "2 - Escreva uma função que receba uma string e uma lista. A função deve comparar a string passada\n",
        "com os elementos da lista, também passada como parâmetro. Retorne verdadeiro se a string for encontrada dentro da lista, e falso, caso contrário."
      ],
      "metadata": {
        "id": "YNGmo4PGTCpW"
      }
    },
    {
      "cell_type": "code",
      "source": [
        "def procura_string(s, lista):\n",
        "  return s in lista\n",
        "\n",
        "nome=input('Diga o nome:')\n",
        "lista = ['Carlos', 'João', 'Davi', 'Hugo']\n",
        "\n",
        "print(procura_string(nome, lista))\n"
      ],
      "metadata": {
        "colab": {
          "base_uri": "https://localhost:8080/"
        },
        "id": "6e-iE6hLTGPb",
        "outputId": "4ff54cb6-9c51-41fb-8082-5eb78b525a67"
      },
      "execution_count": null,
      "outputs": [
        {
          "output_type": "stream",
          "name": "stdout",
          "text": [
            "Diga o nome:Hugo\n",
            "True\n"
          ]
        }
      ]
    },
    {
      "cell_type": "markdown",
      "source": [
        "3 - Crie um programa que transfome o real em dólar"
      ],
      "metadata": {
        "id": "MVaiGNfQYZbV"
      }
    },
    {
      "cell_type": "code",
      "source": [
        "real= float(input('Digite o valor do real:'))\n",
        "dolar= (real*4.94)\n",
        "print('o valor do real é:', real, 'O valor em dolar:', dolar)\n"
      ],
      "metadata": {
        "colab": {
          "base_uri": "https://localhost:8080/"
        },
        "id": "lPx8R_t-YcD8",
        "outputId": "fef1f97a-2795-44a8-f6b8-f933a753a7b2"
      },
      "execution_count": null,
      "outputs": [
        {
          "output_type": "stream",
          "name": "stdout",
          "text": [
            "Digite o valor do real:10\n",
            "o valor do real é: 10.0 O valor em dolar: 49.400000000000006\n"
          ]
        }
      ]
    },
    {
      "cell_type": "markdown",
      "source": [
        "4 - Crie um programa que calcule 25% de aumento no salário"
      ],
      "metadata": {
        "id": "ms4adOkOcPWA"
      }
    },
    {
      "cell_type": "code",
      "source": [
        "salario= float(input('Digite o valor do salario:'))\n",
        "aumento= salario * 0.25\n",
        "print('O valor do salário é:', salario, 'O aumento sob 25% do salário é:', aumento)"
      ],
      "metadata": {
        "colab": {
          "base_uri": "https://localhost:8080/"
        },
        "id": "Ia2vvBmxcVPQ",
        "outputId": "2b8f7368-c26d-44ee-912e-0d6145cb9e2a"
      },
      "execution_count": null,
      "outputs": [
        {
          "output_type": "stream",
          "name": "stdout",
          "text": [
            "Digite o valor do salario:1200\n",
            "O valor do salário é: 1200.0 O aumento sob 25% do salário é: 300.0\n"
          ]
        }
      ]
    },
    {
      "cell_type": "markdown",
      "source": [
        "5 - Crie um programa que transfome a letra Maiuscula em Minuscula\n"
      ],
      "metadata": {
        "id": "qo_Kax5-dHY6"
      }
    },
    {
      "cell_type": "code",
      "source": [
        "letra=input('Digite a letra:')\n",
        "letra= letra.upper()\n",
        "print(letra)"
      ],
      "metadata": {
        "colab": {
          "base_uri": "https://localhost:8080/"
        },
        "id": "PrbRk1SEdOrf",
        "outputId": "4d92855f-8342-45fa-f34f-7627e191468a"
      },
      "execution_count": null,
      "outputs": [
        {
          "output_type": "stream",
          "name": "stdout",
          "text": [
            "Digite a letra:m\n",
            "M\n"
          ]
        }
      ]
    },
    {
      "cell_type": "markdown",
      "source": [
        "6 - Crie um programa que verifica se a pessoa está apta ou não para votar nas eleições.\n",
        "\tCritérios:\n",
        "\t\tIdade menor que 16: Não pode votar \n",
        "\t\t16 <= Idade < 18: Opcional \n",
        "\t\t18 <=Idade <= 65: Obrigatório\n",
        "\t\tIdade maior que 65: Opcional"
      ],
      "metadata": {
        "id": "LJ4hN-FEeJ13"
      }
    },
    {
      "cell_type": "code",
      "source": [
        "nome=input('Qual o nome?')\n",
        "idade=float(input('Qual a idade?'))\n",
        "\n",
        "eleicao = True\n",
        "\n",
        "if ((eleicao == True) and (idade >= 16) and (idade < 18) and (idade <= 18) and (idade <=65)):\n",
        "   print('Você está apto a votar')\n",
        "elif (idade < 16):\n",
        "   print('Você não está apto a votar')\n",
        "else:\n",
        "   (idade > 65)\n",
        "   print('Opcional')"
      ],
      "metadata": {
        "colab": {
          "base_uri": "https://localhost:8080/"
        },
        "id": "eRSokYeHeOw2",
        "outputId": "f506d036-60c5-43e2-8397-5425715cf4ff"
      },
      "execution_count": null,
      "outputs": [
        {
          "output_type": "stream",
          "name": "stdout",
          "text": [
            "Qual o nome?hugo\n",
            "Qual a idade?65\n",
            "Opcional\n"
          ]
        }
      ]
    },
    {
      "cell_type": "markdown",
      "source": [
        "7 - Crie um programa que leia o seu nome completo e que apresente somente o seu primeiro e último nomes"
      ],
      "metadata": {
        "id": "JH8HabVRlccH"
      }
    },
    {
      "cell_type": "code",
      "source": [
        "nome=input('Digite seu nome completo:')\n",
        "lista=nome.split()\n",
        "print(lista)\n",
        "print(lista[-1],',',lista[0])"
      ],
      "metadata": {
        "colab": {
          "base_uri": "https://localhost:8080/"
        },
        "id": "okN9g0Polf7_",
        "outputId": "ed43cf37-671d-48f9-84bb-18adfd42ba3b"
      },
      "execution_count": null,
      "outputs": [
        {
          "output_type": "stream",
          "name": "stdout",
          "text": [
            "Digite seu nome completo:Hugo de Paulo Oliveira\n",
            "['Hugo', 'de', 'Paulo', 'Oliveira']\n",
            "Oliveira , Hugo\n"
          ]
        }
      ]
    },
    {
      "cell_type": "markdown",
      "source": [
        "8 - Crie um programa que leia um número qualquer e informe se ele é par ou ímpar"
      ],
      "metadata": {
        "id": "grWLNgirmdzQ"
      }
    },
    {
      "cell_type": "code",
      "source": [
        "numero= int(input('Digite um numero:'))\n",
        "if (numero%2) == 0:\n",
        "  print('Par')\n",
        "else:\n",
        "  print('Ímpar')"
      ],
      "metadata": {
        "colab": {
          "base_uri": "https://localhost:8080/"
        },
        "id": "JTsvQy-umjC1",
        "outputId": "0a184d0a-84ad-4744-fa16-45abe2e7732a"
      },
      "execution_count": null,
      "outputs": [
        {
          "output_type": "stream",
          "name": "stdout",
          "text": [
            "Digite um numero:30\n",
            "Par\n"
          ]
        }
      ]
    },
    {
      "cell_type": "markdown",
      "source": [
        "9 - Crie um programa que apresente o maior e o menor valores da sequência ([54, 10, 29, 87, 7, 64]"
      ],
      "metadata": {
        "id": "xYfb_vOAneGu"
      }
    },
    {
      "cell_type": "code",
      "source": [
        "numeros = [54, 10, 29, 87, 7, 64]\n",
        "\n",
        "min(numeros) , max(numeros)\n"
      ],
      "metadata": {
        "colab": {
          "base_uri": "https://localhost:8080/"
        },
        "id": "1rBiCcxnnisU",
        "outputId": "40213789-2110-41a0-c58a-1acb449b4d7a"
      },
      "execution_count": null,
      "outputs": [
        {
          "output_type": "execute_result",
          "data": {
            "text/plain": [
              "(7, 87)"
            ]
          },
          "metadata": {},
          "execution_count": 8
        }
      ]
    }
  ]
}