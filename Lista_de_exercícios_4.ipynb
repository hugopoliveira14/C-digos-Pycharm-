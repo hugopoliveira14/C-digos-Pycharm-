{
  "nbformat": 4,
  "nbformat_minor": 0,
  "metadata": {
    "colab": {
      "provenance": [],
      "authorship_tag": "ABX9TyM4eESsZGvxuXVMtA8D58WM",
      "include_colab_link": true
    },
    "kernelspec": {
      "name": "python3",
      "display_name": "Python 3"
    },
    "language_info": {
      "name": "python"
    }
  },
  "cells": [
    {
      "cell_type": "markdown",
      "metadata": {
        "id": "view-in-github",
        "colab_type": "text"
      },
      "source": [
        "<a href=\"https://colab.research.google.com/github/hugopoliveira14/C-digos-Pycharm-/blob/main/Lista_de_exerc%C3%ADcios_4.ipynb\" target=\"_parent\"><img src=\"https://colab.research.google.com/assets/colab-badge.svg\" alt=\"Open In Colab\"/></a>"
      ]
    },
    {
      "cell_type": "code",
      "execution_count": null,
      "metadata": {
        "id": "wtUdk7R7Z4uy"
      },
      "outputs": [],
      "source": [
        "1 - Escreva uma função que receba uma lista de\n",
        "strings como argumento e retorne uma nova lista\n",
        "contendo apenas as strings que começam com a\n",
        "letra \"a\"."
      ]
    },
    {
      "cell_type": "code",
      "source": [
        "def strings_comecando_com_a(lista_strings):\n",
        "  return [string for string in lista_strings if string.startswith('a')]\n",
        "lista = ['ave', 'gol', 'urubu', 'casa', 'aqui']\n",
        "strings_comecando_com_a(lista)\n",
        "\n",
        "\n"
      ],
      "metadata": {
        "colab": {
          "base_uri": "https://localhost:8080/"
        },
        "id": "feU0XRCOaJ7R",
        "outputId": "133243e0-cb37-4a70-e7ec-0a25ac4e1034"
      },
      "execution_count": null,
      "outputs": [
        {
          "output_type": "execute_result",
          "data": {
            "text/plain": [
              "['ave', 'aqui']"
            ]
          },
          "metadata": {},
          "execution_count": 38
        }
      ]
    },
    {
      "cell_type": "markdown",
      "source": [
        "2 - Escreva uma função que receba uma lista de\n",
        "números como argumento e retorne o maior\n",
        "número da lista."
      ],
      "metadata": {
        "id": "vM0fzPgzjj-G"
      }
    },
    {
      "cell_type": "code",
      "source": [
        "numeros = [54, 10, 29, 87, 7, 64]\n",
        "\n",
        "max(numeros)"
      ],
      "metadata": {
        "colab": {
          "base_uri": "https://localhost:8080/"
        },
        "id": "F_rFHnpljnim",
        "outputId": "3a0a9d6b-d244-4303-a339-e55956bf2ed1"
      },
      "execution_count": null,
      "outputs": [
        {
          "output_type": "execute_result",
          "data": {
            "text/plain": [
              "87"
            ]
          },
          "metadata": {},
          "execution_count": 39
        }
      ]
    },
    {
      "cell_type": "markdown",
      "source": [
        "3 - Escreva uma função que recebe uma lista de\n",
        "números como parâmetro e retorna a soma total\n",
        "dos elementos da lista"
      ],
      "metadata": {
        "id": "inrALt3fj85O"
      }
    },
    {
      "cell_type": "code",
      "source": [
        "numeros = [54, 10, 29, 87, 7, 64]\n",
        "\n",
        "sum(numeros)"
      ],
      "metadata": {
        "colab": {
          "base_uri": "https://localhost:8080/"
        },
        "id": "llE1GGQnskvN",
        "outputId": "7e288e67-cbff-422a-aa6d-16bb580df991"
      },
      "execution_count": 11,
      "outputs": [
        {
          "output_type": "execute_result",
          "data": {
            "text/plain": [
              "251"
            ]
          },
          "metadata": {},
          "execution_count": 11
        }
      ]
    },
    {
      "cell_type": "markdown",
      "source": [
        "4 - Escreva uma função que recebe uma lista de\n",
        "números como parâmetro e retorna o produto total\n",
        "dos elementos da lista"
      ],
      "metadata": {
        "id": "_CouXu4Kt0zu"
      }
    },
    {
      "cell_type": "code",
      "source": [
        "from functools import reduce\n",
        "from operator import mul\n",
        "\n",
        "lista = [1, 2, 3, 4, 5]\n",
        "produto = reduce(mul, lista, 1)\n",
        "print(produto)"
      ],
      "metadata": {
        "colab": {
          "base_uri": "https://localhost:8080/"
        },
        "id": "MeXLCLD8uC5O",
        "outputId": "0bdffb75-4dc2-47ab-c5f1-c68b2c850901"
      },
      "execution_count": 1,
      "outputs": [
        {
          "output_type": "stream",
          "name": "stdout",
          "text": [
            "120\n"
          ]
        }
      ]
    },
    {
      "cell_type": "markdown",
      "source": [
        "5 - Escreva uma função que recebe uma lista de\n",
        "números como parâmetro e retorna outra lista\n",
        "apenas com os números pares"
      ],
      "metadata": {
        "id": "kdO3cc5gxbKk"
      }
    },
    {
      "cell_type": "code",
      "source": [
        "lista1 = [4, 3, 2, 5, 7, 6]\n",
        "lista2 = []\n",
        "for valor in lista1:\n",
        "    if valor % 2 == 0:\n",
        "        lista2.append(valor)\n",
        "\n",
        "print(lista2)"
      ],
      "metadata": {
        "colab": {
          "base_uri": "https://localhost:8080/"
        },
        "id": "aVns2I_4xeU7",
        "outputId": "fa913f02-b6a9-480f-db0f-b808bf01ed98"
      },
      "execution_count": 4,
      "outputs": [
        {
          "output_type": "stream",
          "name": "stdout",
          "text": [
            "[4, 2, 6]\n"
          ]
        }
      ]
    },
    {
      "cell_type": "markdown",
      "source": [
        "6 - Escreva uma função que recebe uma string\n",
        "como parâmetro e retorna outra string onde\n",
        "substitui as vogais por x"
      ],
      "metadata": {
        "id": "GZbfzaxMzSoj"
      }
    },
    {
      "cell_type": "code",
      "source": [
        " palavra = \"batata\"\n",
        " print(palavra.replace(\"a\", \"x\"))"
      ],
      "metadata": {
        "colab": {
          "base_uri": "https://localhost:8080/"
        },
        "id": "d_WXxgCSzWXq",
        "outputId": "2e94ec95-d379-4bf8-ee30-9e6e78ed3b9f"
      },
      "execution_count": null,
      "outputs": [
        {
          "output_type": "stream",
          "name": "stdout",
          "text": [
            "bxtxtx\n"
          ]
        }
      ]
    },
    {
      "cell_type": "markdown",
      "source": [
        "7 - Definir uma função que testa um caracter e\n",
        "retorna se é vogal ou não"
      ],
      "metadata": {
        "id": "T2i65fcF0Y2h"
      }
    },
    {
      "cell_type": "code",
      "source": [
        "caracter=input('digite o caracter:')\n",
        "\n",
        "if caracter == 'a' or caracter == 'e' or caracter == 'i' or caracter == 'o' or caracter == 'u':\n",
        "   print('Vogal')\n",
        "else:\n",
        "   print('Não é vogal')"
      ],
      "metadata": {
        "id": "NXn-MFbT0fWA",
        "colab": {
          "base_uri": "https://localhost:8080/"
        },
        "outputId": "94ecf03a-3b1d-48fb-9c13-58440084f684"
      },
      "execution_count": null,
      "outputs": [
        {
          "output_type": "stream",
          "name": "stdout",
          "text": [
            "digite o caracter:b\n",
            "Não é vogal\n"
          ]
        }
      ]
    },
    {
      "cell_type": "markdown",
      "source": [
        "8 - Reescreva o exercício 6 usando a função\n",
        "reduce e a função definida no exercício anterior"
      ],
      "metadata": {
        "id": "uMJC3KjK035o"
      }
    },
    {
      "cell_type": "code",
      "source": [
        "ESTE EXERCÍCIO NÃO CONSEGUI ENTRAR EM UM CONSENTIMENTO LÓGICO PARA RESOLVER. NECESSÁRIO CORREÇÃO."
      ],
      "metadata": {
        "id": "3ubxDh_w07b5"
      },
      "execution_count": null,
      "outputs": []
    },
    {
      "cell_type": "markdown",
      "source": [
        "9 - Crie uma função para percorrer uma string\n",
        "informando se o caracter é acentuado ou não"
      ],
      "metadata": {
        "id": "rETXQ2t6073S"
      }
    },
    {
      "cell_type": "code",
      "source": [
        "caracter=input('digite o caracter:')\n",
        "\n",
        "if caracter == 'á' or caracter == 'à' or caracter == 'â' or caracter == 'ã' or caracter == 'é' or caracter == 'è' or caracter == 'ê' or caracter == 'õ' or caracter == 'í' or caracter == 'ì' or caracter == 'ó' or caracter == 'ú' or caracter == 'ù' or caracter == 'ô':\n",
        "   print('Acentuado')\n",
        "else:\n",
        "   print('Não é acentuado')"
      ],
      "metadata": {
        "id": "IByrDERb0_Bh",
        "colab": {
          "base_uri": "https://localhost:8080/"
        },
        "outputId": "b4bdadd7-37f6-468c-d6fd-6bdea5e3a1a3"
      },
      "execution_count": null,
      "outputs": [
        {
          "output_type": "stream",
          "name": "stdout",
          "text": [
            "digite o caracter:ã\n",
            "Acentuado\n"
          ]
        }
      ]
    }
  ]
}